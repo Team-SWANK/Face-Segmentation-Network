{
 "cells": [
  {
   "cell_type": "code",
   "execution_count": 58,
   "metadata": {},
   "outputs": [],
   "source": [
    "import cv2\n",
    "import sys\n",
    "import math"
   ]
  },
  {
   "cell_type": "code",
   "execution_count": 62,
   "metadata": {},
   "outputs": [
    {
     "name": "stdout",
     "output_type": "stream",
     "text": [
      "Found 5 Faces!\n"
     ]
    }
   ],
   "source": [
    "image = cv2.imread(\"./images/DSC00758.jpeg\")\n",
    "gray = cv2.cvtColor(image, cv2.COLOR_BGR2GRAY)\n",
    "faceCascade = cv2.CascadeClassifier(cv2.data.haarcascades + \"haarcascade_frontalface_default.xml\")\n",
    "faces = faceCascade.detectMultiScale(\n",
    "        gray,\n",
    "        scaleFactor=1.3,\n",
    "        minNeighbors=3,\n",
    "        minSize=(30, 30)\n",
    ")\n",
    "\n",
    "print(\"Found {0} Faces!\".format(len(faces)))"
   ]
  },
  {
   "cell_type": "code",
   "execution_count": 63,
   "metadata": {},
   "outputs": [
    {
     "name": "stdout",
     "output_type": "stream",
     "text": [
      "[INFO] Object found. Saving locally.\n",
      "[INFO] Object found. Saving locally.\n",
      "[INFO] Object found. Saving locally.\n",
      "[INFO] Object found. Saving locally.\n",
      "[INFO] Object found. Saving locally.\n",
      "[INFO] Image faces_detected.jpg written to filesystem:  True\n"
     ]
    }
   ],
   "source": [
    "dim_x, dim_y = image.shape[0], image.shape[1]\n",
    "transpose_x, transpose_y = dim_x *0.05, dim_y * 0.05\n",
    "i = 0\n",
    "for (x, y, w, h) in faces:\n",
    "    x_img = math.floor(x-transpose_x)\n",
    "    y_img = math.floor(y-transpose_y)\n",
    "    w_img = math.floor(w+2*transpose_x)\n",
    "    h_img = math.floor(h+2*transpose_y)\n",
    "    cv2.rectangle(image, (x_img, y_img), (w_img+x_img, h_img+y_img), (0, 255, 0), 2)\n",
    "    roi_color = image[y_img:h_img+y_img, x_img:w_img+x_img]\n",
    "    print(\"[INFO] Object found. Saving locally.\")\n",
    "    cv2.imwrite(str(w) + str(h) + '_' + str(i) + '_faces.jpg', roi_color)\n",
    "    i += 1\n",
    "    \n",
    "status = cv2.imwrite('faces_detected.jpg', image)\n",
    "print(\"[INFO] Image faces_detected.jpg written to filesystem: \", status)"
   ]
  },
  {
   "cell_type": "code",
   "execution_count": null,
   "metadata": {},
   "outputs": [],
   "source": []
  }
 ],
 "metadata": {
  "kernelspec": {
   "display_name": "Python 3",
   "language": "python",
   "name": "python3"
  },
  "language_info": {
   "codemirror_mode": {
    "name": "ipython",
    "version": 3
   },
   "file_extension": ".py",
   "mimetype": "text/x-python",
   "name": "python",
   "nbconvert_exporter": "python",
   "pygments_lexer": "ipython3",
   "version": "3.7.9"
  }
 },
 "nbformat": 4,
 "nbformat_minor": 4
}
